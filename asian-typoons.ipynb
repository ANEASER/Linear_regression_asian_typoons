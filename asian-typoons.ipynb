{
 "cells": [
  {
   "cell_type": "code",
   "execution_count": 1,
   "id": "41acf7a7",
   "metadata": {
    "_cell_guid": "b1076dfc-b9ad-4769-8c92-a6c4dae69d19",
    "_uuid": "8f2839f25d086af736a60e9eeb907d3b93b6e0e5",
    "execution": {
     "iopub.execute_input": "2023-03-12T09:23:49.784062Z",
     "iopub.status.busy": "2023-03-12T09:23:49.783641Z",
     "iopub.status.idle": "2023-03-12T09:23:49.804923Z",
     "shell.execute_reply": "2023-03-12T09:23:49.803353Z"
    },
    "papermill": {
     "duration": 0.038481,
     "end_time": "2023-03-12T09:23:49.808836",
     "exception": false,
     "start_time": "2023-03-12T09:23:49.770355",
     "status": "completed"
    },
    "tags": []
   },
   "outputs": [
    {
     "name": "stdout",
     "output_type": "stream",
     "text": [
      "/kaggle/input/asian-typhoon-dataset-1951-2022-rsmc-best-track/typhoon_data.csv\n",
      "/kaggle/input/asian-typhoon-dataset-1951-2022-rsmc-best-track/typhoon_info.csv\n"
     ]
    }
   ],
   "source": [
    "import numpy as np \n",
    "import pandas as pd \n",
    "\n",
    "import os\n",
    "for dirname, _, filenames in os.walk('/kaggle/input'):\n",
    "    for filename in filenames:\n",
    "        print(os.path.join(dirname, filename))\n"
   ]
  },
  {
   "cell_type": "code",
   "execution_count": 2,
   "id": "ebbaa036",
   "metadata": {
    "execution": {
     "iopub.execute_input": "2023-03-12T09:23:49.832730Z",
     "iopub.status.busy": "2023-03-12T09:23:49.831916Z",
     "iopub.status.idle": "2023-03-12T09:23:50.066470Z",
     "shell.execute_reply": "2023-03-12T09:23:50.065224Z"
    },
    "papermill": {
     "duration": 0.249327,
     "end_time": "2023-03-12T09:23:50.069346",
     "exception": false,
     "start_time": "2023-03-12T09:23:49.820019",
     "status": "completed"
    },
    "tags": []
   },
   "outputs": [],
   "source": [
    "info = pd.read_csv(\"../input/asian-typhoon-dataset-1951-2022-rsmc-best-track/typhoon_info.csv\")\n",
    "data = pd.read_csv(\"../input/asian-typhoon-dataset-1951-2022-rsmc-best-track/typhoon_data.csv\")"
   ]
  },
  {
   "cell_type": "code",
   "execution_count": 3,
   "id": "77a23204",
   "metadata": {
    "execution": {
     "iopub.execute_input": "2023-03-12T09:23:50.093162Z",
     "iopub.status.busy": "2023-03-12T09:23:50.092642Z",
     "iopub.status.idle": "2023-03-12T09:23:50.100315Z",
     "shell.execute_reply": "2023-03-12T09:23:50.099421Z"
    },
    "papermill": {
     "duration": 0.022171,
     "end_time": "2023-03-12T09:23:50.102526",
     "exception": false,
     "start_time": "2023-03-12T09:23:50.080355",
     "status": "completed"
    },
    "tags": []
   },
   "outputs": [
    {
     "data": {
      "text/plain": [
       "((1881, 7), (68624, 18))"
      ]
     },
     "execution_count": 3,
     "metadata": {},
     "output_type": "execute_result"
    }
   ],
   "source": [
    "info.shape , data.shape"
   ]
  },
  {
   "cell_type": "code",
   "execution_count": 4,
   "id": "0d72ec6b",
   "metadata": {
    "execution": {
     "iopub.execute_input": "2023-03-12T09:23:50.127355Z",
     "iopub.status.busy": "2023-03-12T09:23:50.126957Z",
     "iopub.status.idle": "2023-03-12T09:23:50.155044Z",
     "shell.execute_reply": "2023-03-12T09:23:50.154045Z"
    },
    "papermill": {
     "duration": 0.044374,
     "end_time": "2023-03-12T09:23:50.157372",
     "exception": false,
     "start_time": "2023-03-12T09:23:50.112998",
     "status": "completed"
    },
    "tags": []
   },
   "outputs": [
    {
     "data": {
      "text/html": [
       "<div>\n",
       "<style scoped>\n",
       "    .dataframe tbody tr th:only-of-type {\n",
       "        vertical-align: middle;\n",
       "    }\n",
       "\n",
       "    .dataframe tbody tr th {\n",
       "        vertical-align: top;\n",
       "    }\n",
       "\n",
       "    .dataframe thead th {\n",
       "        text-align: right;\n",
       "    }\n",
       "</style>\n",
       "<table border=\"1\" class=\"dataframe\">\n",
       "  <thead>\n",
       "    <tr style=\"text-align: right;\">\n",
       "      <th></th>\n",
       "      <th>Unnamed: 0</th>\n",
       "      <th>International number ID</th>\n",
       "      <th>Tropical cyclone number ID</th>\n",
       "      <th>Flag of the last data line</th>\n",
       "      <th>Difference between the time of the last data and the time of the final analysis</th>\n",
       "      <th>Name</th>\n",
       "      <th>Latest Revision</th>\n",
       "    </tr>\n",
       "  </thead>\n",
       "  <tbody>\n",
       "    <tr>\n",
       "      <th>0</th>\n",
       "      <td>0</td>\n",
       "      <td>5101</td>\n",
       "      <td>NaN</td>\n",
       "      <td>Dissipation</td>\n",
       "      <td>6</td>\n",
       "      <td></td>\n",
       "      <td>1990-10-17</td>\n",
       "    </tr>\n",
       "    <tr>\n",
       "      <th>1</th>\n",
       "      <td>1</td>\n",
       "      <td>5102</td>\n",
       "      <td>NaN</td>\n",
       "      <td>Dissipation</td>\n",
       "      <td>6</td>\n",
       "      <td>GEORGIA</td>\n",
       "      <td>2013-03-19</td>\n",
       "    </tr>\n",
       "    <tr>\n",
       "      <th>2</th>\n",
       "      <td>2</td>\n",
       "      <td>5103</td>\n",
       "      <td>NaN</td>\n",
       "      <td>Dissipation</td>\n",
       "      <td>6</td>\n",
       "      <td>HOPE</td>\n",
       "      <td>1989-06-01</td>\n",
       "    </tr>\n",
       "    <tr>\n",
       "      <th>3</th>\n",
       "      <td>3</td>\n",
       "      <td>5104</td>\n",
       "      <td>NaN</td>\n",
       "      <td>Dissipation</td>\n",
       "      <td>6</td>\n",
       "      <td>IRIS</td>\n",
       "      <td>2013-03-19</td>\n",
       "    </tr>\n",
       "    <tr>\n",
       "      <th>4</th>\n",
       "      <td>4</td>\n",
       "      <td>5105</td>\n",
       "      <td>NaN</td>\n",
       "      <td>Going out</td>\n",
       "      <td>0</td>\n",
       "      <td>JOAN</td>\n",
       "      <td>1991-07-16</td>\n",
       "    </tr>\n",
       "  </tbody>\n",
       "</table>\n",
       "</div>"
      ],
      "text/plain": [
       "   Unnamed: 0  International number ID  Tropical cyclone number ID  \\\n",
       "0           0                     5101                         NaN   \n",
       "1           1                     5102                         NaN   \n",
       "2           2                     5103                         NaN   \n",
       "3           3                     5104                         NaN   \n",
       "4           4                     5105                         NaN   \n",
       "\n",
       "  Flag of the last data line  \\\n",
       "0                Dissipation   \n",
       "1                Dissipation   \n",
       "2                Dissipation   \n",
       "3                Dissipation   \n",
       "4                  Going out   \n",
       "\n",
       "   Difference between the time of the last data and the time of the final analysis  \\\n",
       "0                                                  6                                 \n",
       "1                                                  6                                 \n",
       "2                                                  6                                 \n",
       "3                                                  6                                 \n",
       "4                                                  0                                 \n",
       "\n",
       "                   Name Latest Revision  \n",
       "0                            1990-10-17  \n",
       "1               GEORGIA      2013-03-19  \n",
       "2                  HOPE      1989-06-01  \n",
       "3                  IRIS      2013-03-19  \n",
       "4                  JOAN      1991-07-16  "
      ]
     },
     "execution_count": 4,
     "metadata": {},
     "output_type": "execute_result"
    }
   ],
   "source": [
    "info.head()"
   ]
  },
  {
   "cell_type": "code",
   "execution_count": 5,
   "id": "f0287fac",
   "metadata": {
    "execution": {
     "iopub.execute_input": "2023-03-12T09:23:50.181817Z",
     "iopub.status.busy": "2023-03-12T09:23:50.181150Z",
     "iopub.status.idle": "2023-03-12T09:23:50.199393Z",
     "shell.execute_reply": "2023-03-12T09:23:50.198333Z"
    },
    "papermill": {
     "duration": 0.03405,
     "end_time": "2023-03-12T09:23:50.202343",
     "exception": false,
     "start_time": "2023-03-12T09:23:50.168293",
     "status": "completed"
    },
    "tags": []
   },
   "outputs": [
    {
     "data": {
      "text/html": [
       "<div>\n",
       "<style scoped>\n",
       "    .dataframe tbody tr th:only-of-type {\n",
       "        vertical-align: middle;\n",
       "    }\n",
       "\n",
       "    .dataframe tbody tr th {\n",
       "        vertical-align: top;\n",
       "    }\n",
       "\n",
       "    .dataframe thead th {\n",
       "        text-align: right;\n",
       "    }\n",
       "</style>\n",
       "<table border=\"1\" class=\"dataframe\">\n",
       "  <thead>\n",
       "    <tr style=\"text-align: right;\">\n",
       "      <th></th>\n",
       "      <th>Unnamed: 0</th>\n",
       "      <th>International number ID</th>\n",
       "      <th>year</th>\n",
       "      <th>month</th>\n",
       "      <th>day</th>\n",
       "      <th>hour</th>\n",
       "      <th>grade</th>\n",
       "      <th>Latitude of the center</th>\n",
       "      <th>Longitude of the center</th>\n",
       "      <th>Central pressure</th>\n",
       "      <th>Maximum sustained wind speed</th>\n",
       "      <th>Direction of the longest radius of 50kt winds or greater</th>\n",
       "      <th>The longeast radius of 50kt winds or greater</th>\n",
       "      <th>The shortest radius of 50kt winds or greater</th>\n",
       "      <th>Direction of the longest radius of 30kt winds or greater</th>\n",
       "      <th>The longeast radius of 30kt winds or greater</th>\n",
       "      <th>The shortest radius of 30kt winds or greater</th>\n",
       "      <th>Indicator of landfall or passage</th>\n",
       "    </tr>\n",
       "  </thead>\n",
       "  <tbody>\n",
       "    <tr>\n",
       "      <th>0</th>\n",
       "      <td>0</td>\n",
       "      <td>5101</td>\n",
       "      <td>1951</td>\n",
       "      <td>2</td>\n",
       "      <td>19</td>\n",
       "      <td>6</td>\n",
       "      <td>Tropical Depression</td>\n",
       "      <td>200</td>\n",
       "      <td>1385</td>\n",
       "      <td>1010</td>\n",
       "      <td>NaN</td>\n",
       "      <td>NaN</td>\n",
       "      <td>NaN</td>\n",
       "      <td>NaN</td>\n",
       "      <td>NaN</td>\n",
       "      <td>NaN</td>\n",
       "      <td>NaN</td>\n",
       "      <td></td>\n",
       "    </tr>\n",
       "    <tr>\n",
       "      <th>1</th>\n",
       "      <td>1</td>\n",
       "      <td>5101</td>\n",
       "      <td>1951</td>\n",
       "      <td>2</td>\n",
       "      <td>19</td>\n",
       "      <td>12</td>\n",
       "      <td>Tropical Depression</td>\n",
       "      <td>200</td>\n",
       "      <td>1385</td>\n",
       "      <td>1010</td>\n",
       "      <td>NaN</td>\n",
       "      <td>NaN</td>\n",
       "      <td>NaN</td>\n",
       "      <td>NaN</td>\n",
       "      <td>NaN</td>\n",
       "      <td>NaN</td>\n",
       "      <td>NaN</td>\n",
       "      <td></td>\n",
       "    </tr>\n",
       "    <tr>\n",
       "      <th>2</th>\n",
       "      <td>2</td>\n",
       "      <td>5101</td>\n",
       "      <td>1951</td>\n",
       "      <td>2</td>\n",
       "      <td>19</td>\n",
       "      <td>18</td>\n",
       "      <td>Tropical Depression</td>\n",
       "      <td>230</td>\n",
       "      <td>1421</td>\n",
       "      <td>1000</td>\n",
       "      <td>NaN</td>\n",
       "      <td>NaN</td>\n",
       "      <td>NaN</td>\n",
       "      <td>NaN</td>\n",
       "      <td>NaN</td>\n",
       "      <td>NaN</td>\n",
       "      <td>NaN</td>\n",
       "      <td></td>\n",
       "    </tr>\n",
       "    <tr>\n",
       "      <th>3</th>\n",
       "      <td>3</td>\n",
       "      <td>5101</td>\n",
       "      <td>1951</td>\n",
       "      <td>2</td>\n",
       "      <td>20</td>\n",
       "      <td>0</td>\n",
       "      <td>Tropical Cyclone of TS intensity or higher</td>\n",
       "      <td>250</td>\n",
       "      <td>1460</td>\n",
       "      <td>994</td>\n",
       "      <td>NaN</td>\n",
       "      <td>NaN</td>\n",
       "      <td>NaN</td>\n",
       "      <td>NaN</td>\n",
       "      <td>NaN</td>\n",
       "      <td>NaN</td>\n",
       "      <td>NaN</td>\n",
       "      <td></td>\n",
       "    </tr>\n",
       "    <tr>\n",
       "      <th>4</th>\n",
       "      <td>4</td>\n",
       "      <td>5101</td>\n",
       "      <td>1951</td>\n",
       "      <td>2</td>\n",
       "      <td>20</td>\n",
       "      <td>6</td>\n",
       "      <td>Tropical Cyclone of TS intensity or higher</td>\n",
       "      <td>276</td>\n",
       "      <td>1506</td>\n",
       "      <td>994</td>\n",
       "      <td>NaN</td>\n",
       "      <td>NaN</td>\n",
       "      <td>NaN</td>\n",
       "      <td>NaN</td>\n",
       "      <td>NaN</td>\n",
       "      <td>NaN</td>\n",
       "      <td>NaN</td>\n",
       "      <td></td>\n",
       "    </tr>\n",
       "  </tbody>\n",
       "</table>\n",
       "</div>"
      ],
      "text/plain": [
       "   Unnamed: 0  International number ID  year  month  day  hour  \\\n",
       "0           0                     5101  1951      2   19     6   \n",
       "1           1                     5101  1951      2   19    12   \n",
       "2           2                     5101  1951      2   19    18   \n",
       "3           3                     5101  1951      2   20     0   \n",
       "4           4                     5101  1951      2   20     6   \n",
       "\n",
       "                                        grade  Latitude of the center  \\\n",
       "0                         Tropical Depression                     200   \n",
       "1                         Tropical Depression                     200   \n",
       "2                         Tropical Depression                     230   \n",
       "3  Tropical Cyclone of TS intensity or higher                     250   \n",
       "4  Tropical Cyclone of TS intensity or higher                     276   \n",
       "\n",
       "   Longitude of the center  Central pressure  Maximum sustained wind speed  \\\n",
       "0                     1385              1010                           NaN   \n",
       "1                     1385              1010                           NaN   \n",
       "2                     1421              1000                           NaN   \n",
       "3                     1460               994                           NaN   \n",
       "4                     1506               994                           NaN   \n",
       "\n",
       "  Direction of the longest radius of 50kt winds or greater  \\\n",
       "0                                                NaN         \n",
       "1                                                NaN         \n",
       "2                                                NaN         \n",
       "3                                                NaN         \n",
       "4                                                NaN         \n",
       "\n",
       "   The longeast radius of 50kt winds or greater  \\\n",
       "0                                           NaN   \n",
       "1                                           NaN   \n",
       "2                                           NaN   \n",
       "3                                           NaN   \n",
       "4                                           NaN   \n",
       "\n",
       "   The shortest radius of 50kt winds or greater  \\\n",
       "0                                           NaN   \n",
       "1                                           NaN   \n",
       "2                                           NaN   \n",
       "3                                           NaN   \n",
       "4                                           NaN   \n",
       "\n",
       "  Direction of the longest radius of 30kt winds or greater  \\\n",
       "0                                                NaN         \n",
       "1                                                NaN         \n",
       "2                                                NaN         \n",
       "3                                                NaN         \n",
       "4                                                NaN         \n",
       "\n",
       "   The longeast radius of 30kt winds or greater  \\\n",
       "0                                           NaN   \n",
       "1                                           NaN   \n",
       "2                                           NaN   \n",
       "3                                           NaN   \n",
       "4                                           NaN   \n",
       "\n",
       "   The shortest radius of 30kt winds or greater  \\\n",
       "0                                           NaN   \n",
       "1                                           NaN   \n",
       "2                                           NaN   \n",
       "3                                           NaN   \n",
       "4                                           NaN   \n",
       "\n",
       "  Indicator of landfall or passage  \n",
       "0                                   \n",
       "1                                   \n",
       "2                                   \n",
       "3                                   \n",
       "4                                   "
      ]
     },
     "execution_count": 5,
     "metadata": {},
     "output_type": "execute_result"
    }
   ],
   "source": [
    "data.head()"
   ]
  },
  {
   "cell_type": "code",
   "execution_count": 6,
   "id": "a89c7923",
   "metadata": {
    "execution": {
     "iopub.execute_input": "2023-03-12T09:23:50.227385Z",
     "iopub.status.busy": "2023-03-12T09:23:50.226667Z",
     "iopub.status.idle": "2023-03-12T09:23:50.311057Z",
     "shell.execute_reply": "2023-03-12T09:23:50.309754Z"
    },
    "papermill": {
     "duration": 0.100711,
     "end_time": "2023-03-12T09:23:50.314556",
     "exception": false,
     "start_time": "2023-03-12T09:23:50.213845",
     "status": "completed"
    },
    "tags": []
   },
   "outputs": [],
   "source": [
    " df = pd.merge(info, data, on='International number ID', how='outer', suffixes=('x', 'y'))"
   ]
  },
  {
   "cell_type": "code",
   "execution_count": 7,
   "id": "6611b737",
   "metadata": {
    "execution": {
     "iopub.execute_input": "2023-03-12T09:23:50.339005Z",
     "iopub.status.busy": "2023-03-12T09:23:50.338540Z",
     "iopub.status.idle": "2023-03-12T09:23:50.346082Z",
     "shell.execute_reply": "2023-03-12T09:23:50.344861Z"
    },
    "papermill": {
     "duration": 0.022434,
     "end_time": "2023-03-12T09:23:50.348489",
     "exception": false,
     "start_time": "2023-03-12T09:23:50.326055",
     "status": "completed"
    },
    "tags": []
   },
   "outputs": [
    {
     "data": {
      "text/plain": [
       "(68624, 24)"
      ]
     },
     "execution_count": 7,
     "metadata": {},
     "output_type": "execute_result"
    }
   ],
   "source": [
    "df.shape"
   ]
  },
  {
   "cell_type": "code",
   "execution_count": 8,
   "id": "0cd8d2dd",
   "metadata": {
    "execution": {
     "iopub.execute_input": "2023-03-12T09:23:50.372562Z",
     "iopub.status.busy": "2023-03-12T09:23:50.372102Z",
     "iopub.status.idle": "2023-03-12T09:23:50.421288Z",
     "shell.execute_reply": "2023-03-12T09:23:50.419474Z"
    },
    "papermill": {
     "duration": 0.065355,
     "end_time": "2023-03-12T09:23:50.424861",
     "exception": false,
     "start_time": "2023-03-12T09:23:50.359506",
     "status": "completed"
    },
    "tags": []
   },
   "outputs": [
    {
     "name": "stdout",
     "output_type": "stream",
     "text": [
      "<class 'pandas.core.frame.DataFrame'>\n",
      "Int64Index: 68624 entries, 0 to 68623\n",
      "Data columns (total 24 columns):\n",
      " #   Column                                                                           Non-Null Count  Dtype  \n",
      "---  ------                                                                           --------------  -----  \n",
      " 0   Unnamed: 0x                                                                      68624 non-null  int64  \n",
      " 1   International number ID                                                          68624 non-null  int64  \n",
      " 2   Tropical cyclone number ID                                                       30021 non-null  float64\n",
      " 3   Flag of the last data line                                                       68624 non-null  object \n",
      " 4   Difference between the time of the last data and the time of the final analysis  68624 non-null  int64  \n",
      " 5   Name                                                                             68624 non-null  object \n",
      " 6   Latest Revision                                                                  68624 non-null  object \n",
      " 7   Unnamed: 0y                                                                      68624 non-null  int64  \n",
      " 8   year                                                                             68624 non-null  int64  \n",
      " 9   month                                                                            68624 non-null  int64  \n",
      " 10  day                                                                              68624 non-null  int64  \n",
      " 11  hour                                                                             68624 non-null  int64  \n",
      " 12  grade                                                                            68624 non-null  object \n",
      " 13  Latitude of the center                                                           68624 non-null  int64  \n",
      " 14  Longitude of the center                                                          68624 non-null  int64  \n",
      " 15  Central pressure                                                                 68624 non-null  int64  \n",
      " 16  Maximum sustained wind speed                                                     43356 non-null  float64\n",
      " 17  Direction of the longest radius of 50kt winds or greater                         27208 non-null  object \n",
      " 18  The longeast radius of 50kt winds or greater                                     27208 non-null  float64\n",
      " 19  The shortest radius of 50kt winds or greater                                     27208 non-null  float64\n",
      " 20  Direction of the longest radius of 30kt winds or greater                         27208 non-null  object \n",
      " 21  The longeast radius of 30kt winds or greater                                     27208 non-null  float64\n",
      " 22  The shortest radius of 30kt winds or greater                                     27208 non-null  float64\n",
      " 23  Indicator of landfall or passage                                                 68624 non-null  object \n",
      "dtypes: float64(6), int64(11), object(7)\n",
      "memory usage: 13.1+ MB\n"
     ]
    }
   ],
   "source": [
    "df.info()"
   ]
  },
  {
   "cell_type": "markdown",
   "id": "2b03e655",
   "metadata": {
    "papermill": {
     "duration": 0.010997,
     "end_time": "2023-03-12T09:23:50.447710",
     "exception": false,
     "start_time": "2023-03-12T09:23:50.436713",
     "status": "completed"
    },
    "tags": []
   },
   "source": [
    "### **we have to drop unnecessary Columns**"
   ]
  },
  {
   "cell_type": "code",
   "execution_count": 9,
   "id": "56272c8a",
   "metadata": {
    "execution": {
     "iopub.execute_input": "2023-03-12T09:23:50.472865Z",
     "iopub.status.busy": "2023-03-12T09:23:50.472166Z",
     "iopub.status.idle": "2023-03-12T09:23:50.508019Z",
     "shell.execute_reply": "2023-03-12T09:23:50.506720Z"
    },
    "papermill": {
     "duration": 0.051412,
     "end_time": "2023-03-12T09:23:50.510832",
     "exception": false,
     "start_time": "2023-03-12T09:23:50.459420",
     "status": "completed"
    },
    "tags": []
   },
   "outputs": [],
   "source": [
    "df_1 = df.drop(columns=['Unnamed: 0x', 'International number ID','Tropical cyclone number ID','Flag of the last data line','Difference between the time of the last data and the time of the final analysis','Name','Latest Revision','Unnamed: 0y','year'])"
   ]
  },
  {
   "cell_type": "code",
   "execution_count": 10,
   "id": "87810af0",
   "metadata": {
    "execution": {
     "iopub.execute_input": "2023-03-12T09:23:50.536356Z",
     "iopub.status.busy": "2023-03-12T09:23:50.535927Z",
     "iopub.status.idle": "2023-03-12T09:23:50.564252Z",
     "shell.execute_reply": "2023-03-12T09:23:50.562733Z"
    },
    "papermill": {
     "duration": 0.045477,
     "end_time": "2023-03-12T09:23:50.567618",
     "exception": false,
     "start_time": "2023-03-12T09:23:50.522141",
     "status": "completed"
    },
    "tags": []
   },
   "outputs": [
    {
     "name": "stdout",
     "output_type": "stream",
     "text": [
      "<class 'pandas.core.frame.DataFrame'>\n",
      "Int64Index: 68624 entries, 0 to 68623\n",
      "Data columns (total 15 columns):\n",
      " #   Column                                                    Non-Null Count  Dtype  \n",
      "---  ------                                                    --------------  -----  \n",
      " 0   month                                                     68624 non-null  int64  \n",
      " 1   day                                                       68624 non-null  int64  \n",
      " 2   hour                                                      68624 non-null  int64  \n",
      " 3   grade                                                     68624 non-null  object \n",
      " 4   Latitude of the center                                    68624 non-null  int64  \n",
      " 5   Longitude of the center                                   68624 non-null  int64  \n",
      " 6   Central pressure                                          68624 non-null  int64  \n",
      " 7   Maximum sustained wind speed                              43356 non-null  float64\n",
      " 8   Direction of the longest radius of 50kt winds or greater  27208 non-null  object \n",
      " 9   The longeast radius of 50kt winds or greater              27208 non-null  float64\n",
      " 10  The shortest radius of 50kt winds or greater              27208 non-null  float64\n",
      " 11  Direction of the longest radius of 30kt winds or greater  27208 non-null  object \n",
      " 12  The longeast radius of 30kt winds or greater              27208 non-null  float64\n",
      " 13  The shortest radius of 30kt winds or greater              27208 non-null  float64\n",
      " 14  Indicator of landfall or passage                          68624 non-null  object \n",
      "dtypes: float64(5), int64(6), object(4)\n",
      "memory usage: 8.4+ MB\n"
     ]
    }
   ],
   "source": [
    "df_1.info()"
   ]
  },
  {
   "cell_type": "code",
   "execution_count": 11,
   "id": "72ba9bcb",
   "metadata": {
    "execution": {
     "iopub.execute_input": "2023-03-12T09:23:50.594317Z",
     "iopub.status.busy": "2023-03-12T09:23:50.593566Z",
     "iopub.status.idle": "2023-03-12T09:23:50.621334Z",
     "shell.execute_reply": "2023-03-12T09:23:50.620018Z"
    },
    "papermill": {
     "duration": 0.045077,
     "end_time": "2023-03-12T09:23:50.624309",
     "exception": false,
     "start_time": "2023-03-12T09:23:50.579232",
     "status": "completed"
    },
    "tags": []
   },
   "outputs": [
    {
     "data": {
      "text/plain": [
       "(27208, 15)"
      ]
     },
     "execution_count": 11,
     "metadata": {},
     "output_type": "execute_result"
    }
   ],
   "source": [
    "df_1 = df_1.dropna()\n",
    "df_1.shape"
   ]
  },
  {
   "cell_type": "code",
   "execution_count": 12,
   "id": "02b1e3be",
   "metadata": {
    "execution": {
     "iopub.execute_input": "2023-03-12T09:23:50.650560Z",
     "iopub.status.busy": "2023-03-12T09:23:50.650114Z",
     "iopub.status.idle": "2023-03-12T09:23:50.670441Z",
     "shell.execute_reply": "2023-03-12T09:23:50.668706Z"
    },
    "papermill": {
     "duration": 0.03701,
     "end_time": "2023-03-12T09:23:50.673102",
     "exception": false,
     "start_time": "2023-03-12T09:23:50.636092",
     "status": "completed"
    },
    "tags": []
   },
   "outputs": [
    {
     "name": "stdout",
     "output_type": "stream",
     "text": [
      "<class 'pandas.core.frame.DataFrame'>\n",
      "Int64Index: 27208 entries, 25272 to 68622\n",
      "Data columns (total 15 columns):\n",
      " #   Column                                                    Non-Null Count  Dtype  \n",
      "---  ------                                                    --------------  -----  \n",
      " 0   month                                                     27208 non-null  int64  \n",
      " 1   day                                                       27208 non-null  int64  \n",
      " 2   hour                                                      27208 non-null  int64  \n",
      " 3   grade                                                     27208 non-null  object \n",
      " 4   Latitude of the center                                    27208 non-null  int64  \n",
      " 5   Longitude of the center                                   27208 non-null  int64  \n",
      " 6   Central pressure                                          27208 non-null  int64  \n",
      " 7   Maximum sustained wind speed                              27208 non-null  float64\n",
      " 8   Direction of the longest radius of 50kt winds or greater  27208 non-null  object \n",
      " 9   The longeast radius of 50kt winds or greater              27208 non-null  float64\n",
      " 10  The shortest radius of 50kt winds or greater              27208 non-null  float64\n",
      " 11  Direction of the longest radius of 30kt winds or greater  27208 non-null  object \n",
      " 12  The longeast radius of 30kt winds or greater              27208 non-null  float64\n",
      " 13  The shortest radius of 30kt winds or greater              27208 non-null  float64\n",
      " 14  Indicator of landfall or passage                          27208 non-null  object \n",
      "dtypes: float64(5), int64(6), object(4)\n",
      "memory usage: 3.3+ MB\n"
     ]
    }
   ],
   "source": [
    "df_1.info()"
   ]
  },
  {
   "cell_type": "code",
   "execution_count": 13,
   "id": "b0e37ecf",
   "metadata": {
    "execution": {
     "iopub.execute_input": "2023-03-12T09:23:50.700609Z",
     "iopub.status.busy": "2023-03-12T09:23:50.699070Z",
     "iopub.status.idle": "2023-03-12T09:23:50.716990Z",
     "shell.execute_reply": "2023-03-12T09:23:50.715620Z"
    },
    "papermill": {
     "duration": 0.03533,
     "end_time": "2023-03-12T09:23:50.720191",
     "exception": false,
     "start_time": "2023-03-12T09:23:50.684861",
     "status": "completed"
    },
    "tags": []
   },
   "outputs": [
    {
     "data": {
      "text/plain": [
       "month                                                       0\n",
       "day                                                         0\n",
       "hour                                                        0\n",
       "grade                                                       0\n",
       "Latitude of the center                                      0\n",
       "Longitude of the center                                     0\n",
       "Central pressure                                            0\n",
       "Maximum sustained wind speed                                0\n",
       "Direction of the longest radius of 50kt winds or greater    0\n",
       "The longeast radius of 50kt winds or greater                0\n",
       "The shortest radius of 50kt winds or greater                0\n",
       "Direction of the longest radius of 30kt winds or greater    0\n",
       "The longeast radius of 30kt winds or greater                0\n",
       "The shortest radius of 30kt winds or greater                0\n",
       "Indicator of landfall or passage                            0\n",
       "dtype: int64"
      ]
     },
     "execution_count": 13,
     "metadata": {},
     "output_type": "execute_result"
    }
   ],
   "source": [
    "df_1.isna().sum()"
   ]
  },
  {
   "cell_type": "code",
   "execution_count": 14,
   "id": "40650696",
   "metadata": {
    "execution": {
     "iopub.execute_input": "2023-03-12T09:23:50.746246Z",
     "iopub.status.busy": "2023-03-12T09:23:50.745830Z",
     "iopub.status.idle": "2023-03-12T09:23:50.756224Z",
     "shell.execute_reply": "2023-03-12T09:23:50.754929Z"
    },
    "papermill": {
     "duration": 0.026809,
     "end_time": "2023-03-12T09:23:50.759040",
     "exception": false,
     "start_time": "2023-03-12T09:23:50.732231",
     "status": "completed"
    },
    "tags": []
   },
   "outputs": [
    {
     "name": "stdout",
     "output_type": "stream",
     "text": [
      "['grade', 'Direction of the longest radius of 50kt winds or greater', 'Direction of the longest radius of 30kt winds or greater', 'Indicator of landfall or passage']\n"
     ]
    }
   ],
   "source": [
    "object_cols = list(df_1.select_dtypes(include='object').columns)\n",
    "print(object_cols)"
   ]
  },
  {
   "cell_type": "code",
   "execution_count": 15,
   "id": "de571093",
   "metadata": {
    "execution": {
     "iopub.execute_input": "2023-03-12T09:23:50.784606Z",
     "iopub.status.busy": "2023-03-12T09:23:50.784158Z",
     "iopub.status.idle": "2023-03-12T09:23:52.117340Z",
     "shell.execute_reply": "2023-03-12T09:23:52.115821Z"
    },
    "papermill": {
     "duration": 1.349925,
     "end_time": "2023-03-12T09:23:52.120752",
     "exception": false,
     "start_time": "2023-03-12T09:23:50.770827",
     "status": "completed"
    },
    "tags": []
   },
   "outputs": [],
   "source": [
    "import seaborn as sns\n",
    "import matplotlib.pyplot as plt"
   ]
  },
  {
   "cell_type": "code",
   "execution_count": 16,
   "id": "f5883d54",
   "metadata": {
    "execution": {
     "iopub.execute_input": "2023-03-12T09:23:52.147813Z",
     "iopub.status.busy": "2023-03-12T09:23:52.147176Z",
     "iopub.status.idle": "2023-03-12T09:23:52.161957Z",
     "shell.execute_reply": "2023-03-12T09:23:52.160593Z"
    },
    "papermill": {
     "duration": 0.031361,
     "end_time": "2023-03-12T09:23:52.164832",
     "exception": false,
     "start_time": "2023-03-12T09:23:52.133471",
     "status": "completed"
    },
    "tags": []
   },
   "outputs": [
    {
     "data": {
      "text/plain": [
       "Tropical Depression                                                     19034\n",
       "Tropical Cyclone of TS intensity or higher                              14326\n",
       "Typhoon                                                                 10984\n",
       "Tropical Storm                                                           9311\n",
       "Extra-tropical Cyclone                                                   8042\n",
       "Severe Tropical Storm                                                    6895\n",
       "Just entering into the responsible area of RSMC Tokyo-Typhoon Center       32\n",
       "Name: grade, dtype: int64"
      ]
     },
     "execution_count": 16,
     "metadata": {},
     "output_type": "execute_result"
    }
   ],
   "source": [
    "df[\"grade\"].value_counts()"
   ]
  },
  {
   "cell_type": "code",
   "execution_count": 17,
   "id": "af70f555",
   "metadata": {
    "execution": {
     "iopub.execute_input": "2023-03-12T09:23:52.190882Z",
     "iopub.status.busy": "2023-03-12T09:23:52.190443Z",
     "iopub.status.idle": "2023-03-12T09:23:52.202419Z",
     "shell.execute_reply": "2023-03-12T09:23:52.200852Z"
    },
    "papermill": {
     "duration": 0.028408,
     "end_time": "2023-03-12T09:23:52.205380",
     "exception": false,
     "start_time": "2023-03-12T09:23:52.176972",
     "status": "completed"
    },
    "tags": []
   },
   "outputs": [],
   "source": [
    "df_1 = df_1.drop(df_1[df_1['grade'] == 'Just entering into the responsible area of RSMC Tokyo-Typhoon Center'].index)"
   ]
  },
  {
   "cell_type": "code",
   "execution_count": 18,
   "id": "ae14af14",
   "metadata": {
    "execution": {
     "iopub.execute_input": "2023-03-12T09:23:52.231083Z",
     "iopub.status.busy": "2023-03-12T09:23:52.230636Z",
     "iopub.status.idle": "2023-03-12T09:23:52.477758Z",
     "shell.execute_reply": "2023-03-12T09:23:52.476776Z"
    },
    "papermill": {
     "duration": 0.26285,
     "end_time": "2023-03-12T09:23:52.480153",
     "exception": false,
     "start_time": "2023-03-12T09:23:52.217303",
     "status": "completed"
    },
    "tags": []
   },
   "outputs": [
    {
     "data": {
      "image/png": "[encoded data removed]",
      "text/plain": [
       "<Figure size 400x500 with 1 Axes>"
      ]
     },
     "metadata": {},
     "output_type": "display_data"
    }
   ],
   "source": [
    "plt.figure(figsize=(4, 5))\n",
    "sns.countplot(data=df_1, x=\"grade\")\n",
    "plt.tick_params(axis='x', rotation=90) # Rotate the Xlabel\n",
    "plt.show()"
   ]
  },
  {
   "cell_type": "code",
   "execution_count": 19,
   "id": "30d4ae6f",
   "metadata": {
    "execution": {
     "iopub.execute_input": "2023-03-12T09:23:52.507126Z",
     "iopub.status.busy": "2023-03-12T09:23:52.506223Z",
     "iopub.status.idle": "2023-03-12T09:23:52.774853Z",
     "shell.execute_reply": "2023-03-12T09:23:52.773668Z"
    },
    "papermill": {
     "duration": 0.285079,
     "end_time": "2023-03-12T09:23:52.777464",
     "exception": false,
     "start_time": "2023-03-12T09:23:52.492385",
     "status": "completed"
    },
    "tags": []
   },
   "outputs": [
    {
     "data": {
      "image/png": "[encoded data removed]",
      "text/plain": [
       "<Figure size 400x500 with 1 Axes>"
      ]
     },
     "metadata": {},
     "output_type": "display_data"
    }
   ],
   "source": [
    "plt.figure(figsize=(4, 5))\n",
    "sns.countplot(data=df_1, x=\"Direction of the longest radius of 50kt winds or greater\")\n",
    "plt.tick_params(axis='x', rotation=90) # Rotate the Xlabel\n",
    "plt.show()"
   ]
  },
  {
   "cell_type": "code",
   "execution_count": 20,
   "id": "96a147a7",
   "metadata": {
    "execution": {
     "iopub.execute_input": "2023-03-12T09:23:52.805207Z",
     "iopub.status.busy": "2023-03-12T09:23:52.804811Z",
     "iopub.status.idle": "2023-03-12T09:23:53.088405Z",
     "shell.execute_reply": "2023-03-12T09:23:53.087090Z"
    },
    "papermill": {
     "duration": 0.30089,
     "end_time": "2023-03-12T09:23:53.091247",
     "exception": false,
     "start_time": "2023-03-12T09:23:52.790357",
     "status": "completed"
    },
    "tags": []
   },
   "outputs": [
    {
     "data": {
      "image/png": "[encoded data removed]",
      "text/plain": [
       "<Figure size 400x500 with 1 Axes>"
      ]
     },
     "metadata": {},
     "output_type": "display_data"
    }
   ],
   "source": [
    "plt.figure(figsize=(4, 5))\n",
    "sns.countplot(data=df_1, x=\"Direction of the longest radius of 30kt winds or greater\")\n",
    "plt.tick_params(axis='x', rotation=90) # Rotate the Xlabel\n",
    "plt.show()"
   ]
  },
  {
   "cell_type": "code",
   "execution_count": 21,
   "id": "01c20904",
   "metadata": {
    "execution": {
     "iopub.execute_input": "2023-03-12T09:23:53.121007Z",
     "iopub.status.busy": "2023-03-12T09:23:53.120577Z",
     "iopub.status.idle": "2023-03-12T09:23:53.320724Z",
     "shell.execute_reply": "2023-03-12T09:23:53.319547Z"
    },
    "papermill": {
     "duration": 0.218135,
     "end_time": "2023-03-12T09:23:53.323545",
     "exception": false,
     "start_time": "2023-03-12T09:23:53.105410",
     "status": "completed"
    },
    "tags": []
   },
   "outputs": [
    {
     "data": {
      "image/png": "[encoded data removed]",
      "text/plain": [
       "<Figure size 400x500 with 1 Axes>"
      ]
     },
     "metadata": {},
     "output_type": "display_data"
    }
   ],
   "source": [
    "plt.figure(figsize=(4, 5))\n",
    "sns.countplot(data=df_1, x=\"Indicator of landfall or passage\")\n",
    "plt.tick_params(axis='x', rotation=90) # Rotate the Xlabel\n",
    "plt.show()"
   ]
  },
  {
   "cell_type": "markdown",
   "id": "e28e1242",
   "metadata": {
    "papermill": {
     "duration": 0.013394,
     "end_time": "2023-03-12T09:23:53.350663",
     "exception": false,
     "start_time": "2023-03-12T09:23:53.337269",
     "status": "completed"
    },
    "tags": []
   },
   "source": [
    "above column it not reliable to data."
   ]
  },
  {
   "cell_type": "code",
   "execution_count": 22,
   "id": "c4eb84b0",
   "metadata": {
    "execution": {
     "iopub.execute_input": "2023-03-12T09:23:53.380671Z",
     "iopub.status.busy": "2023-03-12T09:23:53.379623Z",
     "iopub.status.idle": "2023-03-12T09:23:53.389278Z",
     "shell.execute_reply": "2023-03-12T09:23:53.387905Z"
    },
    "papermill": {
     "duration": 0.028206,
     "end_time": "2023-03-12T09:23:53.392483",
     "exception": false,
     "start_time": "2023-03-12T09:23:53.364277",
     "status": "completed"
    },
    "tags": []
   },
   "outputs": [],
   "source": [
    "df_1 = df_1.drop(columns=[\"Indicator of landfall or passage\"])"
   ]
  },
  {
   "cell_type": "code",
   "execution_count": 23,
   "id": "5446bfb8",
   "metadata": {
    "execution": {
     "iopub.execute_input": "2023-03-12T09:23:53.422956Z",
     "iopub.status.busy": "2023-03-12T09:23:53.422499Z",
     "iopub.status.idle": "2023-03-12T09:23:53.443873Z",
     "shell.execute_reply": "2023-03-12T09:23:53.442145Z"
    },
    "papermill": {
     "duration": 0.040761,
     "end_time": "2023-03-12T09:23:53.447036",
     "exception": false,
     "start_time": "2023-03-12T09:23:53.406275",
     "status": "completed"
    },
    "tags": []
   },
   "outputs": [
    {
     "name": "stdout",
     "output_type": "stream",
     "text": [
      "<class 'pandas.core.frame.DataFrame'>\n",
      "Int64Index: 27190 entries, 25272 to 68622\n",
      "Data columns (total 14 columns):\n",
      " #   Column                                                    Non-Null Count  Dtype  \n",
      "---  ------                                                    --------------  -----  \n",
      " 0   month                                                     27190 non-null  int64  \n",
      " 1   day                                                       27190 non-null  int64  \n",
      " 2   hour                                                      27190 non-null  int64  \n",
      " 3   grade                                                     27190 non-null  object \n",
      " 4   Latitude of the center                                    27190 non-null  int64  \n",
      " 5   Longitude of the center                                   27190 non-null  int64  \n",
      " 6   Central pressure                                          27190 non-null  int64  \n",
      " 7   Maximum sustained wind speed                              27190 non-null  float64\n",
      " 8   Direction of the longest radius of 50kt winds or greater  27190 non-null  object \n",
      " 9   The longeast radius of 50kt winds or greater              27190 non-null  float64\n",
      " 10  The shortest radius of 50kt winds or greater              27190 non-null  float64\n",
      " 11  Direction of the longest radius of 30kt winds or greater  27190 non-null  object \n",
      " 12  The longeast radius of 30kt winds or greater              27190 non-null  float64\n",
      " 13  The shortest radius of 30kt winds or greater              27190 non-null  float64\n",
      "dtypes: float64(5), int64(6), object(3)\n",
      "memory usage: 4.1+ MB\n"
     ]
    }
   ],
   "source": [
    "df_1.info()"
   ]
  },
  {
   "cell_type": "code",
   "execution_count": 24,
   "id": "a8c12186",
   "metadata": {
    "execution": {
     "iopub.execute_input": "2023-03-12T09:23:53.477346Z",
     "iopub.status.busy": "2023-03-12T09:23:53.476738Z",
     "iopub.status.idle": "2023-03-12T09:23:53.490005Z",
     "shell.execute_reply": "2023-03-12T09:23:53.488628Z"
    },
    "papermill": {
     "duration": 0.03187,
     "end_time": "2023-03-12T09:23:53.492939",
     "exception": false,
     "start_time": "2023-03-12T09:23:53.461069",
     "status": "completed"
    },
    "tags": []
   },
   "outputs": [
    {
     "data": {
      "text/plain": [
       "Typhoon                  10984\n",
       "Tropical Storm            9311\n",
       "Severe Tropical Storm     6895\n",
       "Name: grade, dtype: int64"
      ]
     },
     "execution_count": 24,
     "metadata": {},
     "output_type": "execute_result"
    }
   ],
   "source": [
    "df_1[\"grade\"].value_counts()"
   ]
  },
  {
   "cell_type": "code",
   "execution_count": 25,
   "id": "6700fb49",
   "metadata": {
    "execution": {
     "iopub.execute_input": "2023-03-12T09:23:53.524177Z",
     "iopub.status.busy": "2023-03-12T09:23:53.523071Z",
     "iopub.status.idle": "2023-03-12T09:23:53.555911Z",
     "shell.execute_reply": "2023-03-12T09:23:53.554723Z"
    },
    "papermill": {
     "duration": 0.051186,
     "end_time": "2023-03-12T09:23:53.558597",
     "exception": false,
     "start_time": "2023-03-12T09:23:53.507411",
     "status": "completed"
    },
    "tags": []
   },
   "outputs": [],
   "source": [
    "replace_dict = {'Typhoon': 1, 'Tropical Storm': 2, 'Severe Tropical Storm': 3}\n",
    "df_1 = df_1.replace(replace_dict)"
   ]
  },
  {
   "cell_type": "code",
   "execution_count": 26,
   "id": "743fa349",
   "metadata": {
    "execution": {
     "iopub.execute_input": "2023-03-12T09:23:53.589657Z",
     "iopub.status.busy": "2023-03-12T09:23:53.588484Z",
     "iopub.status.idle": "2023-03-12T09:23:53.600842Z",
     "shell.execute_reply": "2023-03-12T09:23:53.599561Z"
    },
    "papermill": {
     "duration": 0.030134,
     "end_time": "2023-03-12T09:23:53.603250",
     "exception": false,
     "start_time": "2023-03-12T09:23:53.573116",
     "status": "completed"
    },
    "tags": []
   },
   "outputs": [
    {
     "data": {
      "text/plain": [
       "(symmetric circle)    12981\n",
       "Southeast              3444\n",
       "East                   3369\n",
       "Northeast              2549\n",
       "North                  2393\n",
       "South                  1088\n",
       "Northwest               956\n",
       "Southwest               249\n",
       "West                    159\n",
       "No direction              2\n",
       "Name: Direction of the longest radius of 30kt winds or greater, dtype: int64"
      ]
     },
     "execution_count": 26,
     "metadata": {},
     "output_type": "execute_result"
    }
   ],
   "source": [
    "df_1[\"Direction of the longest radius of 30kt winds or greater\"].value_counts()"
   ]
  },
  {
   "cell_type": "code",
   "execution_count": 27,
   "id": "55c69b31",
   "metadata": {
    "execution": {
     "iopub.execute_input": "2023-03-12T09:23:53.633109Z",
     "iopub.status.busy": "2023-03-12T09:23:53.632707Z",
     "iopub.status.idle": "2023-03-12T09:23:53.647496Z",
     "shell.execute_reply": "2023-03-12T09:23:53.646587Z"
    },
    "papermill": {
     "duration": 0.032693,
     "end_time": "2023-03-12T09:23:53.649941",
     "exception": false,
     "start_time": "2023-03-12T09:23:53.617248",
     "status": "completed"
    },
    "tags": []
   },
   "outputs": [],
   "source": [
    "dummy_cols = pd.get_dummies(df_1[['Direction of the longest radius of 30kt winds or greater']])"
   ]
  },
  {
   "cell_type": "code",
   "execution_count": 28,
   "id": "0b25599d",
   "metadata": {
    "execution": {
     "iopub.execute_input": "2023-03-12T09:23:53.679829Z",
     "iopub.status.busy": "2023-03-12T09:23:53.679413Z",
     "iopub.status.idle": "2023-03-12T09:23:53.687430Z",
     "shell.execute_reply": "2023-03-12T09:23:53.686551Z"
    },
    "papermill": {
     "duration": 0.02565,
     "end_time": "2023-03-12T09:23:53.689737",
     "exception": false,
     "start_time": "2023-03-12T09:23:53.664087",
     "status": "completed"
    },
    "tags": []
   },
   "outputs": [],
   "source": [
    "df_1 = pd.concat([df_1, dummy_cols], axis=1)"
   ]
  },
  {
   "cell_type": "code",
   "execution_count": 29,
   "id": "0a266073",
   "metadata": {
    "execution": {
     "iopub.execute_input": "2023-03-12T09:23:53.720973Z",
     "iopub.status.busy": "2023-03-12T09:23:53.720183Z",
     "iopub.status.idle": "2023-03-12T09:23:53.730603Z",
     "shell.execute_reply": "2023-03-12T09:23:53.729328Z"
    },
    "papermill": {
     "duration": 0.030821,
     "end_time": "2023-03-12T09:23:53.734758",
     "exception": false,
     "start_time": "2023-03-12T09:23:53.703937",
     "status": "completed"
    },
    "tags": []
   },
   "outputs": [
    {
     "data": {
      "text/plain": [
       "(symmetric circle)    12030\n",
       "No direction          11944\n",
       "Southeast              1003\n",
       "East                   1001\n",
       "Northeast               505\n",
       "North                   410\n",
       "South                   141\n",
       "Northwest               112\n",
       "Southwest                29\n",
       "West                     15\n",
       "Name: Direction of the longest radius of 50kt winds or greater, dtype: int64"
      ]
     },
     "execution_count": 29,
     "metadata": {},
     "output_type": "execute_result"
    }
   ],
   "source": [
    "df_1[\"Direction of the longest radius of 50kt winds or greater\"].value_counts()"
   ]
  },
  {
   "cell_type": "code",
   "execution_count": 30,
   "id": "b944fcaf",
   "metadata": {
    "execution": {
     "iopub.execute_input": "2023-03-12T09:23:53.764762Z",
     "iopub.status.busy": "2023-03-12T09:23:53.764317Z",
     "iopub.status.idle": "2023-03-12T09:23:53.778488Z",
     "shell.execute_reply": "2023-03-12T09:23:53.777199Z"
    },
    "papermill": {
     "duration": 0.032511,
     "end_time": "2023-03-12T09:23:53.781330",
     "exception": false,
     "start_time": "2023-03-12T09:23:53.748819",
     "status": "completed"
    },
    "tags": []
   },
   "outputs": [],
   "source": [
    "dummy_cols_1 = pd.get_dummies(df_1[['Direction of the longest radius of 50kt winds or greater']])"
   ]
  },
  {
   "cell_type": "code",
   "execution_count": 31,
   "id": "3f2cb4fe",
   "metadata": {
    "execution": {
     "iopub.execute_input": "2023-03-12T09:23:53.812111Z",
     "iopub.status.busy": "2023-03-12T09:23:53.811677Z",
     "iopub.status.idle": "2023-03-12T09:23:53.820775Z",
     "shell.execute_reply": "2023-03-12T09:23:53.819616Z"
    },
    "papermill": {
     "duration": 0.027418,
     "end_time": "2023-03-12T09:23:53.823328",
     "exception": false,
     "start_time": "2023-03-12T09:23:53.795910",
     "status": "completed"
    },
    "tags": []
   },
   "outputs": [],
   "source": [
    "df_1 = pd.concat([df_1, dummy_cols_1], axis=1)"
   ]
  },
  {
   "cell_type": "code",
   "execution_count": 32,
   "id": "98ce3a50",
   "metadata": {
    "execution": {
     "iopub.execute_input": "2023-03-12T09:23:53.854228Z",
     "iopub.status.busy": "2023-03-12T09:23:53.853200Z",
     "iopub.status.idle": "2023-03-12T09:23:53.877446Z",
     "shell.execute_reply": "2023-03-12T09:23:53.876209Z"
    },
    "papermill": {
     "duration": 0.042161,
     "end_time": "2023-03-12T09:23:53.880006",
     "exception": false,
     "start_time": "2023-03-12T09:23:53.837845",
     "status": "completed"
    },
    "tags": []
   },
   "outputs": [
    {
     "data": {
      "text/html": [
       "<div>\n",
       "<style scoped>\n",
       "    .dataframe tbody tr th:only-of-type {\n",
       "        vertical-align: middle;\n",
       "    }\n",
       "\n",
       "    .dataframe tbody tr th {\n",
       "        vertical-align: top;\n",
       "    }\n",
       "\n",
       "    .dataframe thead th {\n",
       "        text-align: right;\n",
       "    }\n",
       "</style>\n",
       "<table border=\"1\" class=\"dataframe\">\n",
       "  <thead>\n",
       "    <tr style=\"text-align: right;\">\n",
       "      <th></th>\n",
       "      <th>month</th>\n",
       "      <th>day</th>\n",
       "      <th>hour</th>\n",
       "      <th>grade</th>\n",
       "      <th>Latitude of the center</th>\n",
       "      <th>Longitude of the center</th>\n",
       "      <th>Central pressure</th>\n",
       "      <th>Maximum sustained wind speed</th>\n",
       "      <th>Direction of the longest radius of 50kt winds or greater</th>\n",
       "      <th>The longeast radius of 50kt winds or greater</th>\n",
       "      <th>...</th>\n",
       "      <th>Direction of the longest radius of 50kt winds or greater_(symmetric circle)</th>\n",
       "      <th>Direction of the longest radius of 50kt winds or greater_East</th>\n",
       "      <th>Direction of the longest radius of 50kt winds or greater_No direction</th>\n",
       "      <th>Direction of the longest radius of 50kt winds or greater_North</th>\n",
       "      <th>Direction of the longest radius of 50kt winds or greater_Northeast</th>\n",
       "      <th>Direction of the longest radius of 50kt winds or greater_Northwest</th>\n",
       "      <th>Direction of the longest radius of 50kt winds or greater_South</th>\n",
       "      <th>Direction of the longest radius of 50kt winds or greater_Southeast</th>\n",
       "      <th>Direction of the longest radius of 50kt winds or greater_Southwest</th>\n",
       "      <th>Direction of the longest radius of 50kt winds or greater_West</th>\n",
       "    </tr>\n",
       "  </thead>\n",
       "  <tbody>\n",
       "    <tr>\n",
       "      <th>25272</th>\n",
       "      <td>3</td>\n",
       "      <td>28</td>\n",
       "      <td>0</td>\n",
       "      <td>3</td>\n",
       "      <td>56</td>\n",
       "      <td>1588</td>\n",
       "      <td>990</td>\n",
       "      <td>50.0</td>\n",
       "      <td>No direction</td>\n",
       "      <td>0.0</td>\n",
       "      <td>...</td>\n",
       "      <td>0</td>\n",
       "      <td>0</td>\n",
       "      <td>1</td>\n",
       "      <td>0</td>\n",
       "      <td>0</td>\n",
       "      <td>0</td>\n",
       "      <td>0</td>\n",
       "      <td>0</td>\n",
       "      <td>0</td>\n",
       "      <td>0</td>\n",
       "    </tr>\n",
       "    <tr>\n",
       "      <th>25273</th>\n",
       "      <td>3</td>\n",
       "      <td>28</td>\n",
       "      <td>6</td>\n",
       "      <td>3</td>\n",
       "      <td>61</td>\n",
       "      <td>1582</td>\n",
       "      <td>996</td>\n",
       "      <td>50.0</td>\n",
       "      <td>No direction</td>\n",
       "      <td>0.0</td>\n",
       "      <td>...</td>\n",
       "      <td>0</td>\n",
       "      <td>0</td>\n",
       "      <td>1</td>\n",
       "      <td>0</td>\n",
       "      <td>0</td>\n",
       "      <td>0</td>\n",
       "      <td>0</td>\n",
       "      <td>0</td>\n",
       "      <td>0</td>\n",
       "      <td>0</td>\n",
       "    </tr>\n",
       "    <tr>\n",
       "      <th>25274</th>\n",
       "      <td>3</td>\n",
       "      <td>28</td>\n",
       "      <td>12</td>\n",
       "      <td>3</td>\n",
       "      <td>66</td>\n",
       "      <td>1575</td>\n",
       "      <td>1000</td>\n",
       "      <td>50.0</td>\n",
       "      <td>No direction</td>\n",
       "      <td>0.0</td>\n",
       "      <td>...</td>\n",
       "      <td>0</td>\n",
       "      <td>0</td>\n",
       "      <td>1</td>\n",
       "      <td>0</td>\n",
       "      <td>0</td>\n",
       "      <td>0</td>\n",
       "      <td>0</td>\n",
       "      <td>0</td>\n",
       "      <td>0</td>\n",
       "      <td>0</td>\n",
       "    </tr>\n",
       "    <tr>\n",
       "      <th>25275</th>\n",
       "      <td>3</td>\n",
       "      <td>28</td>\n",
       "      <td>18</td>\n",
       "      <td>2</td>\n",
       "      <td>70</td>\n",
       "      <td>1568</td>\n",
       "      <td>1002</td>\n",
       "      <td>45.0</td>\n",
       "      <td>No direction</td>\n",
       "      <td>0.0</td>\n",
       "      <td>...</td>\n",
       "      <td>0</td>\n",
       "      <td>0</td>\n",
       "      <td>1</td>\n",
       "      <td>0</td>\n",
       "      <td>0</td>\n",
       "      <td>0</td>\n",
       "      <td>0</td>\n",
       "      <td>0</td>\n",
       "      <td>0</td>\n",
       "      <td>0</td>\n",
       "    </tr>\n",
       "    <tr>\n",
       "      <th>25276</th>\n",
       "      <td>3</td>\n",
       "      <td>29</td>\n",
       "      <td>0</td>\n",
       "      <td>2</td>\n",
       "      <td>73</td>\n",
       "      <td>1560</td>\n",
       "      <td>1002</td>\n",
       "      <td>45.0</td>\n",
       "      <td>No direction</td>\n",
       "      <td>0.0</td>\n",
       "      <td>...</td>\n",
       "      <td>0</td>\n",
       "      <td>0</td>\n",
       "      <td>1</td>\n",
       "      <td>0</td>\n",
       "      <td>0</td>\n",
       "      <td>0</td>\n",
       "      <td>0</td>\n",
       "      <td>0</td>\n",
       "      <td>0</td>\n",
       "      <td>0</td>\n",
       "    </tr>\n",
       "  </tbody>\n",
       "</table>\n",
       "<p>5 rows × 34 columns</p>\n",
       "</div>"
      ],
      "text/plain": [
       "       month  day  hour  grade  Latitude of the center  \\\n",
       "25272      3   28     0      3                      56   \n",
       "25273      3   28     6      3                      61   \n",
       "25274      3   28    12      3                      66   \n",
       "25275      3   28    18      2                      70   \n",
       "25276      3   29     0      2                      73   \n",
       "\n",
       "       Longitude of the center  Central pressure  \\\n",
       "25272                     1588               990   \n",
       "25273                     1582               996   \n",
       "25274                     1575              1000   \n",
       "25275                     1568              1002   \n",
       "25276                     1560              1002   \n",
       "\n",
       "       Maximum sustained wind speed  \\\n",
       "25272                          50.0   \n",
       "25273                          50.0   \n",
       "25274                          50.0   \n",
       "25275                          45.0   \n",
       "25276                          45.0   \n",
       "\n",
       "      Direction of the longest radius of 50kt winds or greater  \\\n",
       "25272                                       No direction         \n",
       "25273                                       No direction         \n",
       "25274                                       No direction         \n",
       "25275                                       No direction         \n",
       "25276                                       No direction         \n",
       "\n",
       "       The longeast radius of 50kt winds or greater  ...  \\\n",
       "25272                                           0.0  ...   \n",
       "25273                                           0.0  ...   \n",
       "25274                                           0.0  ...   \n",
       "25275                                           0.0  ...   \n",
       "25276                                           0.0  ...   \n",
       "\n",
       "       Direction of the longest radius of 50kt winds or greater_(symmetric circle)  \\\n",
       "25272                                                  0                             \n",
       "25273                                                  0                             \n",
       "25274                                                  0                             \n",
       "25275                                                  0                             \n",
       "25276                                                  0                             \n",
       "\n",
       "      Direction of the longest radius of 50kt winds or greater_East  \\\n",
       "25272                                                  0              \n",
       "25273                                                  0              \n",
       "25274                                                  0              \n",
       "25275                                                  0              \n",
       "25276                                                  0              \n",
       "\n",
       "       Direction of the longest radius of 50kt winds or greater_No direction  \\\n",
       "25272                                                  1                       \n",
       "25273                                                  1                       \n",
       "25274                                                  1                       \n",
       "25275                                                  1                       \n",
       "25276                                                  1                       \n",
       "\n",
       "       Direction of the longest radius of 50kt winds or greater_North  \\\n",
       "25272                                                  0                \n",
       "25273                                                  0                \n",
       "25274                                                  0                \n",
       "25275                                                  0                \n",
       "25276                                                  0                \n",
       "\n",
       "       Direction of the longest radius of 50kt winds or greater_Northeast  \\\n",
       "25272                                                  0                    \n",
       "25273                                                  0                    \n",
       "25274                                                  0                    \n",
       "25275                                                  0                    \n",
       "25276                                                  0                    \n",
       "\n",
       "       Direction of the longest radius of 50kt winds or greater_Northwest  \\\n",
       "25272                                                  0                    \n",
       "25273                                                  0                    \n",
       "25274                                                  0                    \n",
       "25275                                                  0                    \n",
       "25276                                                  0                    \n",
       "\n",
       "       Direction of the longest radius of 50kt winds or greater_South  \\\n",
       "25272                                                  0                \n",
       "25273                                                  0                \n",
       "25274                                                  0                \n",
       "25275                                                  0                \n",
       "25276                                                  0                \n",
       "\n",
       "       Direction of the longest radius of 50kt winds or greater_Southeast  \\\n",
       "25272                                                  0                    \n",
       "25273                                                  0                    \n",
       "25274                                                  0                    \n",
       "25275                                                  0                    \n",
       "25276                                                  0                    \n",
       "\n",
       "       Direction of the longest radius of 50kt winds or greater_Southwest  \\\n",
       "25272                                                  0                    \n",
       "25273                                                  0                    \n",
       "25274                                                  0                    \n",
       "25275                                                  0                    \n",
       "25276                                                  0                    \n",
       "\n",
       "       Direction of the longest radius of 50kt winds or greater_West  \n",
       "25272                                                  0              \n",
       "25273                                                  0              \n",
       "25274                                                  0              \n",
       "25275                                                  0              \n",
       "25276                                                  0              \n",
       "\n",
       "[5 rows x 34 columns]"
      ]
     },
     "execution_count": 32,
     "metadata": {},
     "output_type": "execute_result"
    }
   ],
   "source": [
    "df_1.head(5)"
   ]
  },
  {
   "cell_type": "code",
   "execution_count": 33,
   "id": "a0f54d24",
   "metadata": {
    "execution": {
     "iopub.execute_input": "2023-03-12T09:23:53.913598Z",
     "iopub.status.busy": "2023-03-12T09:23:53.912641Z",
     "iopub.status.idle": "2023-03-12T09:23:53.923441Z",
     "shell.execute_reply": "2023-03-12T09:23:53.922283Z"
    },
    "papermill": {
     "duration": 0.031631,
     "end_time": "2023-03-12T09:23:53.926364",
     "exception": false,
     "start_time": "2023-03-12T09:23:53.894733",
     "status": "completed"
    },
    "tags": []
   },
   "outputs": [],
   "source": [
    "df_1 = df_1.drop(columns=[\"Direction of the longest radius of 50kt winds or greater\",\"Direction of the longest radius of 30kt winds or greater\"])"
   ]
  },
  {
   "cell_type": "code",
   "execution_count": 34,
   "id": "57ac01b8",
   "metadata": {
    "execution": {
     "iopub.execute_input": "2023-03-12T09:23:53.958800Z",
     "iopub.status.busy": "2023-03-12T09:23:53.957780Z",
     "iopub.status.idle": "2023-03-12T09:23:53.976119Z",
     "shell.execute_reply": "2023-03-12T09:23:53.974626Z"
    },
    "papermill": {
     "duration": 0.038055,
     "end_time": "2023-03-12T09:23:53.979064",
     "exception": false,
     "start_time": "2023-03-12T09:23:53.941009",
     "status": "completed"
    },
    "tags": []
   },
   "outputs": [
    {
     "name": "stdout",
     "output_type": "stream",
     "text": [
      "<class 'pandas.core.frame.DataFrame'>\n",
      "Int64Index: 27190 entries, 25272 to 68622\n",
      "Data columns (total 32 columns):\n",
      " #   Column                                                                       Non-Null Count  Dtype  \n",
      "---  ------                                                                       --------------  -----  \n",
      " 0   month                                                                        27190 non-null  int64  \n",
      " 1   day                                                                          27190 non-null  int64  \n",
      " 2   hour                                                                         27190 non-null  int64  \n",
      " 3   grade                                                                        27190 non-null  int64  \n",
      " 4   Latitude of the center                                                       27190 non-null  int64  \n",
      " 5   Longitude of the center                                                      27190 non-null  int64  \n",
      " 6   Central pressure                                                             27190 non-null  int64  \n",
      " 7   Maximum sustained wind speed                                                 27190 non-null  float64\n",
      " 8   The longeast radius of 50kt winds or greater                                 27190 non-null  float64\n",
      " 9   The shortest radius of 50kt winds or greater                                 27190 non-null  float64\n",
      " 10  The longeast radius of 30kt winds or greater                                 27190 non-null  float64\n",
      " 11  The shortest radius of 30kt winds or greater                                 27190 non-null  float64\n",
      " 12  Direction of the longest radius of 30kt winds or greater_(symmetric circle)  27190 non-null  uint8  \n",
      " 13  Direction of the longest radius of 30kt winds or greater_East                27190 non-null  uint8  \n",
      " 14  Direction of the longest radius of 30kt winds or greater_No direction        27190 non-null  uint8  \n",
      " 15  Direction of the longest radius of 30kt winds or greater_North               27190 non-null  uint8  \n",
      " 16  Direction of the longest radius of 30kt winds or greater_Northeast           27190 non-null  uint8  \n",
      " 17  Direction of the longest radius of 30kt winds or greater_Northwest           27190 non-null  uint8  \n",
      " 18  Direction of the longest radius of 30kt winds or greater_South               27190 non-null  uint8  \n",
      " 19  Direction of the longest radius of 30kt winds or greater_Southeast           27190 non-null  uint8  \n",
      " 20  Direction of the longest radius of 30kt winds or greater_Southwest           27190 non-null  uint8  \n",
      " 21  Direction of the longest radius of 30kt winds or greater_West                27190 non-null  uint8  \n",
      " 22  Direction of the longest radius of 50kt winds or greater_(symmetric circle)  27190 non-null  uint8  \n",
      " 23  Direction of the longest radius of 50kt winds or greater_East                27190 non-null  uint8  \n",
      " 24  Direction of the longest radius of 50kt winds or greater_No direction        27190 non-null  uint8  \n",
      " 25  Direction of the longest radius of 50kt winds or greater_North               27190 non-null  uint8  \n",
      " 26  Direction of the longest radius of 50kt winds or greater_Northeast           27190 non-null  uint8  \n",
      " 27  Direction of the longest radius of 50kt winds or greater_Northwest           27190 non-null  uint8  \n",
      " 28  Direction of the longest radius of 50kt winds or greater_South               27190 non-null  uint8  \n",
      " 29  Direction of the longest radius of 50kt winds or greater_Southeast           27190 non-null  uint8  \n",
      " 30  Direction of the longest radius of 50kt winds or greater_Southwest           27190 non-null  uint8  \n",
      " 31  Direction of the longest radius of 50kt winds or greater_West                27190 non-null  uint8  \n",
      "dtypes: float64(5), int64(7), uint8(20)\n",
      "memory usage: 4.2 MB\n"
     ]
    }
   ],
   "source": [
    "df_1.info()"
   ]
  },
  {
   "cell_type": "code",
   "execution_count": 35,
   "id": "67b12c4b",
   "metadata": {
    "execution": {
     "iopub.execute_input": "2023-03-12T09:23:54.012474Z",
     "iopub.status.busy": "2023-03-12T09:23:54.012034Z",
     "iopub.status.idle": "2023-03-12T09:23:54.020184Z",
     "shell.execute_reply": "2023-03-12T09:23:54.018944Z"
    },
    "papermill": {
     "duration": 0.027946,
     "end_time": "2023-03-12T09:23:54.022879",
     "exception": false,
     "start_time": "2023-03-12T09:23:53.994933",
     "status": "completed"
    },
    "tags": []
   },
   "outputs": [],
   "source": [
    "features = df_1.drop(columns=[\"Central pressure\"])\n",
    "target = df_1[\"Central pressure\"]"
   ]
  },
  {
   "cell_type": "markdown",
   "id": "7f82fce8",
   "metadata": {
    "papermill": {
     "duration": 0.01488,
     "end_time": "2023-03-12T09:23:54.053181",
     "exception": false,
     "start_time": "2023-03-12T09:23:54.038301",
     "status": "completed"
    },
    "tags": []
   },
   "source": [
    "### **Scale the data**"
   ]
  },
  {
   "cell_type": "code",
   "execution_count": 36,
   "id": "7e748320",
   "metadata": {
    "execution": {
     "iopub.execute_input": "2023-03-12T09:23:54.085150Z",
     "iopub.status.busy": "2023-03-12T09:23:54.084702Z",
     "iopub.status.idle": "2023-03-12T09:23:54.304889Z",
     "shell.execute_reply": "2023-03-12T09:23:54.303800Z"
    },
    "papermill": {
     "duration": 0.239465,
     "end_time": "2023-03-12T09:23:54.307588",
     "exception": false,
     "start_time": "2023-03-12T09:23:54.068123",
     "status": "completed"
    },
    "tags": []
   },
   "outputs": [],
   "source": [
    "from sklearn.preprocessing import StandardScaler\n",
    "scaler = StandardScaler()\n",
    "\n",
    "\n",
    "scaler.fit(features)\n",
    "scaled_features = scaler.transform(features)"
   ]
  },
  {
   "cell_type": "code",
   "execution_count": 37,
   "id": "6940e9cf",
   "metadata": {
    "execution": {
     "iopub.execute_input": "2023-03-12T09:23:54.340798Z",
     "iopub.status.busy": "2023-03-12T09:23:54.339816Z",
     "iopub.status.idle": "2023-03-12T09:23:54.617271Z",
     "shell.execute_reply": "2023-03-12T09:23:54.616085Z"
    },
    "papermill": {
     "duration": 0.296726,
     "end_time": "2023-03-12T09:23:54.620302",
     "exception": false,
     "start_time": "2023-03-12T09:23:54.323576",
     "status": "completed"
    },
    "tags": []
   },
   "outputs": [],
   "source": [
    "from sklearn.decomposition import PCA\n",
    "from sklearn.decomposition import PCA\n",
    "from sklearn.model_selection import train_test_split\n",
    "\n",
    "X, X_t, Y, Y_t = train_test_split(scaled_features,target, test_size=0.99, random_state=500)\n",
    "\n",
    "pca = PCA(n_components=1)\n",
    "X_pca = pca.fit_transform(X)\n"
   ]
  },
  {
   "cell_type": "code",
   "execution_count": 38,
   "id": "eb97c52d",
   "metadata": {
    "execution": {
     "iopub.execute_input": "2023-03-12T09:23:54.652461Z",
     "iopub.status.busy": "2023-03-12T09:23:54.652062Z",
     "iopub.status.idle": "2023-03-12T09:23:54.878725Z",
     "shell.execute_reply": "2023-03-12T09:23:54.877818Z"
    },
    "papermill": {
     "duration": 0.245738,
     "end_time": "2023-03-12T09:23:54.881135",
     "exception": false,
     "start_time": "2023-03-12T09:23:54.635397",
     "status": "completed"
    },
    "tags": []
   },
   "outputs": [
    {
     "data": {
      "image/png": "[encoded data removed]",
      "text/plain": [
       "<Figure size 640x480 with 1 Axes>"
      ]
     },
     "metadata": {},
     "output_type": "display_data"
    }
   ],
   "source": [
    "plt.scatter(X_pca, Y)\n",
    "\n",
    "# add a title and axis labels\n",
    "plt.title('Spread of Training Data')\n",
    "plt.xlabel('X')\n",
    "plt.ylabel('Y')\n",
    "\n",
    "plt.show()"
   ]
  },
  {
   "cell_type": "code",
   "execution_count": 39,
   "id": "b4809a18",
   "metadata": {
    "execution": {
     "iopub.execute_input": "2023-03-12T09:23:54.916306Z",
     "iopub.status.busy": "2023-03-12T09:23:54.913876Z",
     "iopub.status.idle": "2023-03-12T09:23:54.932583Z",
     "shell.execute_reply": "2023-03-12T09:23:54.931120Z"
    },
    "papermill": {
     "duration": 0.038951,
     "end_time": "2023-03-12T09:23:54.935747",
     "exception": false,
     "start_time": "2023-03-12T09:23:54.896796",
     "status": "completed"
    },
    "tags": []
   },
   "outputs": [],
   "source": [
    "from sklearn.model_selection import train_test_split\n",
    "\n",
    "X_train, X_test, y_train, y_test = train_test_split(scaled_features, target, test_size=0.05, random_state=42)\n"
   ]
  },
  {
   "cell_type": "code",
   "execution_count": 40,
   "id": "1e22dc97",
   "metadata": {
    "execution": {
     "iopub.execute_input": "2023-03-12T09:23:54.968586Z",
     "iopub.status.busy": "2023-03-12T09:23:54.967459Z",
     "iopub.status.idle": "2023-03-12T09:23:55.008155Z",
     "shell.execute_reply": "2023-03-12T09:23:55.006777Z"
    },
    "papermill": {
     "duration": 0.062018,
     "end_time": "2023-03-12T09:23:55.012992",
     "exception": false,
     "start_time": "2023-03-12T09:23:54.950974",
     "status": "completed"
    },
    "tags": []
   },
   "outputs": [],
   "source": [
    "from sklearn.linear_model import LinearRegression\n",
    "\n",
    "lr = LinearRegression()\n",
    "\n",
    "lr.fit(X_train, y_train)\n",
    "\n",
    "y_pred = lr.predict(X_test)"
   ]
  },
  {
   "cell_type": "code",
   "execution_count": 41,
   "id": "8ce9e580",
   "metadata": {
    "execution": {
     "iopub.execute_input": "2023-03-12T09:23:55.096978Z",
     "iopub.status.busy": "2023-03-12T09:23:55.096095Z",
     "iopub.status.idle": "2023-03-12T09:23:55.109300Z",
     "shell.execute_reply": "2023-03-12T09:23:55.107537Z"
    },
    "papermill": {
     "duration": 0.062175,
     "end_time": "2023-03-12T09:23:55.114463",
     "exception": false,
     "start_time": "2023-03-12T09:23:55.052288",
     "status": "completed"
    },
    "tags": []
   },
   "outputs": [
    {
     "name": "stdout",
     "output_type": "stream",
     "text": [
      "rmse : 5.126937292234664\n"
     ]
    }
   ],
   "source": [
    "from sklearn.metrics import mean_squared_error\n",
    "mse = mean_squared_error(y_test, y_pred)\n",
    "rmse = np.sqrt(mse)\n",
    "print(\"rmse :\",rmse)"
   ]
  },
  {
   "cell_type": "code",
   "execution_count": 42,
   "id": "63982176",
   "metadata": {
    "execution": {
     "iopub.execute_input": "2023-03-12T09:23:55.155151Z",
     "iopub.status.busy": "2023-03-12T09:23:55.154742Z",
     "iopub.status.idle": "2023-03-12T09:23:55.162699Z",
     "shell.execute_reply": "2023-03-12T09:23:55.160835Z"
    },
    "papermill": {
     "duration": 0.028243,
     "end_time": "2023-03-12T09:23:55.166073",
     "exception": false,
     "start_time": "2023-03-12T09:23:55.137830",
     "status": "completed"
    },
    "tags": []
   },
   "outputs": [
    {
     "name": "stdout",
     "output_type": "stream",
     "text": [
      "r2 :  0.9491621365059841\n"
     ]
    }
   ],
   "source": [
    "from sklearn.metrics import r2_score\n",
    "\n",
    "# calculate R2 score on test data\n",
    "r2 = r2_score(y_test, y_pred)\n",
    "print(\"r2 : \",r2)"
   ]
  }
 ],
 "metadata": {
  "kernelspec": {
   "display_name": "Python 3",
   "language": "python",
   "name": "python3"
  },
  "language_info": {
   "codemirror_mode": {
    "name": "ipython",
    "version": 3
   },
   "file_extension": ".py",
   "mimetype": "text/x-python",
   "name": "python",
   "nbconvert_exporter": "python",
   "pygments_lexer": "ipython3",
   "version": "3.7.12"
  },
  "papermill": {
   "default_parameters": {},
   "duration": 17.140191,
   "end_time": "2023-03-12T09:23:56.006468",
   "environment_variables": {},
   "exception": null,
   "input_path": "__notebook__.ipynb",
   "output_path": "__notebook__.ipynb",
   "parameters": {},
   "start_time": "2023-03-12T09:23:38.866277",
   "version": "2.4.0"
  }
 },
 "nbformat": 4,
 "nbformat_minor": 5
}
